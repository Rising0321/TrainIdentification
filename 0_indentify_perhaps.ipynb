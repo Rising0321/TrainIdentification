{
 "cells": [
  {
   "cell_type": "code",
   "execution_count": 1,
   "id": "af55766f-801f-4a3f-91a8-5ba50f1e5069",
   "metadata": {
    "ExecuteTime": {
     "end_time": "2024-06-06T16:23:13.888110400Z",
     "start_time": "2024-06-06T16:23:13.818985900Z"
    }
   },
   "outputs": [
    {
     "ename": "ModuleNotFoundError",
     "evalue": "No module named 'pyspark'",
     "output_type": "error",
     "traceback": [
      "\u001B[0;31m---------------------------------------------------------------------------\u001B[0m",
      "\u001B[0;31mModuleNotFoundError\u001B[0m                       Traceback (most recent call last)",
      "\u001B[0;32m<ipython-input-1-f8dbde728f5c>\u001B[0m in \u001B[0;36m<module>\u001B[0;34m\u001B[0m\n\u001B[0;32m----> 1\u001B[0;31m \u001B[0;32mfrom\u001B[0m \u001B[0mpyspark\u001B[0m \u001B[0;32mimport\u001B[0m \u001B[0mSparkConf\u001B[0m\u001B[0;34m,\u001B[0m \u001B[0mSparkContext\u001B[0m\u001B[0;34m\u001B[0m\u001B[0;34m\u001B[0m\u001B[0m\n\u001B[0m\u001B[1;32m      2\u001B[0m \u001B[0;32mfrom\u001B[0m \u001B[0mpyspark\u001B[0m\u001B[0;34m.\u001B[0m\u001B[0msql\u001B[0m \u001B[0;32mimport\u001B[0m \u001B[0mfunctions\u001B[0m \u001B[0;32mas\u001B[0m \u001B[0mfn\u001B[0m\u001B[0;34m\u001B[0m\u001B[0;34m\u001B[0m\u001B[0m\n\u001B[1;32m      3\u001B[0m \u001B[0;32mfrom\u001B[0m \u001B[0mpyspark\u001B[0m\u001B[0;34m.\u001B[0m\u001B[0msql\u001B[0m\u001B[0;34m.\u001B[0m\u001B[0mwindow\u001B[0m \u001B[0;32mimport\u001B[0m \u001B[0mWindow\u001B[0m\u001B[0;34m\u001B[0m\u001B[0;34m\u001B[0m\u001B[0m\n\u001B[1;32m      4\u001B[0m \u001B[0;32mfrom\u001B[0m \u001B[0mpyspark\u001B[0m\u001B[0;34m.\u001B[0m\u001B[0msql\u001B[0m \u001B[0;32mimport\u001B[0m \u001B[0mSparkSession\u001B[0m\u001B[0;34m\u001B[0m\u001B[0;34m\u001B[0m\u001B[0m\n\u001B[1;32m      5\u001B[0m \u001B[0;32mfrom\u001B[0m \u001B[0mpyspark\u001B[0m\u001B[0;34m.\u001B[0m\u001B[0msql\u001B[0m\u001B[0;34m.\u001B[0m\u001B[0mfunctions\u001B[0m \u001B[0;32mimport\u001B[0m \u001B[0mcol\u001B[0m\u001B[0;34m\u001B[0m\u001B[0;34m\u001B[0m\u001B[0m\n",
      "\u001B[0;31mModuleNotFoundError\u001B[0m: No module named 'pyspark'"
     ]
    }
   ],
   "source": [
    "from pyspark import SparkConf, SparkContext\n",
    "from pyspark.sql import functions as fn\n",
    "from pyspark.sql.window import Window\n",
    "from pyspark.sql import SparkSession\n",
    "from pyspark.sql.functions import col\n",
    "import pandas as pd\n",
    "import numpy as np\n",
    "import time\n",
    "import pyarrow.parquet as pq\n",
    "import os\n",
    "import math\n",
    "from pyspark.sql.window import Window\n",
    "import time\n",
    "import datetime\n",
    "\n",
    "os.environ[\"JAVA_HOME\"] = \"/workdir/data/JAVA8/jdk1.8.0_202\"\n",
    "\n",
    "# SparkContext.setSystemProperty(\"spark.driver.maxResultSize\",\"1g\")\n",
    "spark = SparkSession.builder \\\n",
    "    .config(\"spark.excutor.memory\", \"300g\") \\\n",
    "    .config(\"spark.driver.memory\", \"300g\") \\\n",
    "    .config(\"spark.excutor.cores\", 40) \\\n",
    "    .appName(\"Read Parquet\") \\\n",
    "    .getOrCreate()"
   ]
  },
  {
   "cell_type": "code",
   "execution_count": null,
   "id": "b6c16cc0-b27c-4b78-a289-d94f42b1100c",
   "metadata": {
    "ExecuteTime": {
     "start_time": "2024-06-06T16:23:13.888110400Z"
    }
   },
   "outputs": [],
   "source": [
    "year = 2023\n",
    "month = 3\n",
    "day = 1\n",
    "\n",
    "now_date = year * 10000 + month * 100 + day\n",
    "nex_date = year * 10000 + month * 100 + day + 1\n",
    "\n",
    "date_time = datetime.datetime(year, month, day)\n",
    "now_unix = int(time.mktime(date_time.timetuple())) * 1000\n",
    "date_time = datetime.datetime(year, month, day + 10)\n",
    "nex_unix = int(time.mktime(date_time.timetuple())) * 1000\n",
    "print(now_unix, nex_unix)\n",
    "\n",
    "time_delta = 15 * 60 * 1000\n",
    "now_dir = 0"
   ]
  },
  {
   "cell_type": "code",
   "execution_count": null,
   "outputs": [],
   "source": [
    "beijing_nan = [116.3728, 39.8644]\n",
    "beijing_box = [116.1530, 116.5732, 39.7737, 40.0455]"
   ],
   "metadata": {
    "collapsed": false
   }
  },
  {
   "cell_type": "code",
   "execution_count": null,
   "id": "12cc2238-371e-4682-b23d-632d087c6d2c",
   "metadata": {},
   "outputs": [],
   "source": [
    "def change_pemu(a, b):\n",
    "    result = np.empty_like(a)\n",
    "    result[b] = a\n",
    "    return result"
   ]
  },
  {
   "cell_type": "code",
   "execution_count": null,
   "outputs": [],
   "source": [
    "def get_dis(a, b):\n",
    "    return abs(a[0] - b[0] * 100 + abs(a[1] - b[1]) * 100"
   ],
   "metadata": {
    "collapsed": false
   }
  },
  {
   "cell_type": "code",
   "execution_count": null,
   "outputs": [],
   "source": [
    "def calc_time_delta(a, b):\n",
    "    return (b - a) / time_delta"
   ],
   "metadata": {
    "collapsed": false
   }
  },
  {
   "cell_type": "code",
   "execution_count": null,
   "outputs": [],
   "source": [],
   "metadata": {
    "collapsed": false
   }
  },
  {
   "cell_type": "code",
   "execution_count": null,
   "id": "13b3cf11-e711-49e5-a9e6-40191bfaa44d",
   "metadata": {},
   "outputs": [],
   "source": [
    "def calculate_static(iteratrors):\n",
    "    res = []\n",
    "    res_id = []\n",
    "\n",
    "    flag = 0\n",
    "    for now__ in iteratrors:\n",
    "        # print(now__)\n",
    "        now_ = [now__[0], change_pemu(list(now__[1]), list(now__[6])),\n",
    "                change_pemu(list(now__[2]), list(now__[6])),\n",
    "                change_pemu(list(now__[3]), list(now__[6])),\n",
    "                change_pemu(list(now__[4]), list(now__[6])),\n",
    "                change_pemu(list(now__[5]), list(now__[6]))]\n",
    "\n",
    "        cnt_in = 0\n",
    "        cnt_ou = 0\n",
    "        cnt_no = 96\n",
    "\n",
    "        max_len = len(now_[1])\n",
    "\n",
    "        for i in range(max_len):\n",
    "            x = [now_[0], now_[1][i], now_[2][i], now_[3][i], now_[4][i], now_[5][i]]\n",
    "            if get_dis([x[2], x[3]], beijing_nan) < 1:\n",
    "                cnt_in += calc_time_delta(x[4], x[5])\n",
    "\n",
    "            if x[2] > 0 and x[3] > 0 and (x[2] < beijing_box[0] or x[2] > beijing_box[1]\n",
    "                    or x[3] < beijing_box[2] or x[3] > beijing_box[3]):\n",
    "                cnt_ou += calc_time_delta(x[4], x[5])\n",
    "\n",
    "            if x[2] > 0 and x[3] > 0:\n",
    "                cnt_no -= calc_time_delta(x[4], x[5])\n",
    "\n",
    "        if cnt_in > 1 and cnt_ou > 1 and cnt_no > 2:\n",
    "            for i in range(max_len):\n",
    "                x = [now_[0], now_[1][i], now_[2][i], now_[3][i], now_[4][i], now_[5][i]]\n",
    "                res.append(x)\n",
    "            res_id.append(now__[0])\n",
    "\n",
    "    try:\n",
    "        now_id = os.getpid()\n",
    "        while True:\n",
    "            path = (\"/workdir/train_potential/%d/{}_data.npy\" % now_dir).format(now_id)\n",
    "            if os.path.exists(path):\n",
    "                now_id += 20\n",
    "            else:\n",
    "                break\n",
    "\n",
    "        np.save((\"/workdir/train_potential/%d/{}_data.npy\" % now_dir).format(now_id), res, allow_pickle=True)\n",
    "        # np.save((\"/workdir/train_potential/%d/{}_uid.npy\" % now_dir).format(now_id), res_id, allow_pickle=True)\n",
    "    except Exception as e:\n",
    "        print(e)"
   ]
  },
  {
   "cell_type": "code",
   "execution_count": null,
   "id": "f0e6b966-36ee-45dc-a619-10e61894c41e",
   "metadata": {},
   "outputs": [],
   "source": [
    "def output_data(full_data):\n",
    "    target_columns = full_data.columns\n",
    "    window_spec = Window.partitionBy(\"UID\").orderBy(\"procedureStartTime\")\n",
    "\n",
    "    full_data = full_data.withColumn(\n",
    "        \"rownum\",\n",
    "        fn.row_number().over(window_spec) - 1\n",
    "    )\n",
    "\n",
    "    full_data = full_data.groupby(\"UID\").agg(\n",
    "        fn.collect_list(\"CID\").alias(\"CID_list\"),\n",
    "        fn.collect_list(\"longitude\").alias(\"longitude_list\"),\n",
    "        fn.collect_list(\"latitude\").alias(\"latitude_list\"),\n",
    "        fn.collect_list(\"procedureStartTime\").alias(\"procedureStartTime_list\"),\n",
    "        fn.collect_list(\"procedureEndTime\").alias(\"procedureEndTime_list\"),\n",
    "        fn.collect_list(\"rownum\").alias(\"rownum_list\")\n",
    "    )\n",
    "    print(\"-----------------------------------------\")\n",
    "    full_data.foreachPartition(calculate_static)"
   ]
  },
  {
   "cell_type": "code",
   "execution_count": null,
   "id": "eb872a16-b5af-4d05-90bb-7f09deb87653",
   "metadata": {},
   "outputs": [],
   "source": [
    "now_st = 0\n",
    "now_len = 2000000\n",
    "sub_data = 0\n",
    "os.makedirs(\"/workdir/train_potential/%d\" % sub_data, exist_ok=True)\n",
    "now_dir = sub_data\n",
    "sum_data = None\n",
    "i = 1\n",
    "data_dir = \"/workdir/temp/202303%02d\" % i\n",
    "full_data = spark.read.parquet(data_dir)\n",
    "sum_data = full_data.filter((full_data[\"UID\"] < now_st + now_len) & (now_st <= full_data[\"UID\"]))\n",
    "output_data(sum_data)"
   ]
  },
  {
   "cell_type": "code",
   "execution_count": null,
   "id": "52ddd372-abe1-43c1-ad9e-041d0cea7b65",
   "metadata": {},
   "outputs": [],
   "source": []
  },
  {
   "cell_type": "code",
   "execution_count": null,
   "id": "41c9c6c0-4c5c-4427-b293-5fa9968ee211",
   "metadata": {},
   "outputs": [],
   "source": []
  }
 ],
 "metadata": {
  "kernelspec": {
   "display_name": "Python 3 (ipykernel)",
   "language": "python",
   "name": "python3"
  },
  "language_info": {
   "codemirror_mode": {
    "name": "ipython",
    "version": 3
   },
   "file_extension": ".py",
   "mimetype": "text/x-python",
   "name": "python",
   "nbconvert_exporter": "python",
   "pygments_lexer": "ipython3",
   "version": "3.10.11"
  }
 },
 "nbformat": 4,
 "nbformat_minor": 5
}
