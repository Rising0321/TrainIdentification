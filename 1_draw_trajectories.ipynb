{
 "cells": [
  {
   "cell_type": "code",
   "execution_count": 1,
   "id": "af55766f-801f-4a3f-91a8-5ba50f1e5069",
   "metadata": {
    "ExecuteTime": {
     "end_time": "2024-06-06T16:23:13.888110400Z",
     "start_time": "2024-06-06T16:23:13.818985900Z"
    }
   },
   "outputs": [
    {
     "ename": "ModuleNotFoundError",
     "evalue": "No module named 'pyspark'",
     "output_type": "error",
     "traceback": [
      "\u001B[0;31m---------------------------------------------------------------------------\u001B[0m",
      "\u001B[0;31mModuleNotFoundError\u001B[0m                       Traceback (most recent call last)",
      "\u001B[0;32m<ipython-input-1-f8dbde728f5c>\u001B[0m in \u001B[0;36m<module>\u001B[0;34m\u001B[0m\n\u001B[0;32m----> 1\u001B[0;31m \u001B[0;32mfrom\u001B[0m \u001B[0mpyspark\u001B[0m \u001B[0;32mimport\u001B[0m \u001B[0mSparkConf\u001B[0m\u001B[0;34m,\u001B[0m \u001B[0mSparkContext\u001B[0m\u001B[0;34m\u001B[0m\u001B[0;34m\u001B[0m\u001B[0m\n\u001B[0m\u001B[1;32m      2\u001B[0m \u001B[0;32mfrom\u001B[0m \u001B[0mpyspark\u001B[0m\u001B[0;34m.\u001B[0m\u001B[0msql\u001B[0m \u001B[0;32mimport\u001B[0m \u001B[0mfunctions\u001B[0m \u001B[0;32mas\u001B[0m \u001B[0mfn\u001B[0m\u001B[0;34m\u001B[0m\u001B[0;34m\u001B[0m\u001B[0m\n\u001B[1;32m      3\u001B[0m \u001B[0;32mfrom\u001B[0m \u001B[0mpyspark\u001B[0m\u001B[0;34m.\u001B[0m\u001B[0msql\u001B[0m\u001B[0;34m.\u001B[0m\u001B[0mwindow\u001B[0m \u001B[0;32mimport\u001B[0m \u001B[0mWindow\u001B[0m\u001B[0;34m\u001B[0m\u001B[0;34m\u001B[0m\u001B[0m\n\u001B[1;32m      4\u001B[0m \u001B[0;32mfrom\u001B[0m \u001B[0mpyspark\u001B[0m\u001B[0;34m.\u001B[0m\u001B[0msql\u001B[0m \u001B[0;32mimport\u001B[0m \u001B[0mSparkSession\u001B[0m\u001B[0;34m\u001B[0m\u001B[0;34m\u001B[0m\u001B[0m\n\u001B[1;32m      5\u001B[0m \u001B[0;32mfrom\u001B[0m \u001B[0mpyspark\u001B[0m\u001B[0;34m.\u001B[0m\u001B[0msql\u001B[0m\u001B[0;34m.\u001B[0m\u001B[0mfunctions\u001B[0m \u001B[0;32mimport\u001B[0m \u001B[0mcol\u001B[0m\u001B[0;34m\u001B[0m\u001B[0;34m\u001B[0m\u001B[0m\n",
      "\u001B[0;31mModuleNotFoundError\u001B[0m: No module named 'pyspark'"
     ]
    }
   ],
   "source": [
    "import os\n",
    "import numpy as np\n",
    "import matplotlib.pyplot as plt\n",
    "\n",
    "def calc_files(walk_path):\n",
    "    res = []\n",
    "    for root, nowdir, nowfiles in os.walk(walk_path):\n",
    "        # print(nowfiles)\n",
    "        for file in nowfiles:\n",
    "            if file.find(\"data\") != -1:\n",
    "                res.append(root + \"/\" + file)\n",
    "    return res"
   ]
  },
  {
   "cell_type": "code",
   "execution_count": null,
   "id": "b6c16cc0-b27c-4b78-a289-d94f42b1100c",
   "metadata": {
    "is_executing": true
   },
   "outputs": [],
   "source": [
    "def my_groupby(trajectories):\n",
    "    res = []\n",
    "    now = []\n",
    "    for trajectory in trajectories:\n",
    "        if now == [] or (trajectory[0] == now[-1][0] and trajectory[1] == now[-1][1]):\n",
    "            now.append(trajectory)\n",
    "        else:\n",
    "            res.append(now)\n",
    "            now = []\n",
    "    res.append(now)\n",
    "    return res"
   ]
  },
  {
   "cell_type": "code",
   "execution_count": null,
   "outputs": [],
   "source": [
    "path = \"/workdir/train_potential/3/\"\n",
    "now_grouped = []\n",
    "for traj in calc_files(path):\n",
    "    trajectories = np.load(traj)\n",
    "    grouped = my_groupby(trajectories)\n",
    "    now_grouped.extend(grouped)"
   ],
   "metadata": {
    "collapsed": false
   }
  },
  {
   "cell_type": "code",
   "execution_count": null,
   "outputs": [],
   "source": [
    "def get_plot(now, idx):\n",
    "    res = []\n",
    "    for trajectory in now:\n",
    "        res.append(trajectory[idx])\n",
    "    return res"
   ],
   "metadata": {
    "collapsed": false
   }
  },
  {
   "cell_type": "code",
   "execution_count": null,
   "outputs": [],
   "source": [
    "from PIL import Image\n",
    "\n",
    "mario_img = Image.open(\"./figure0.png\")"
   ],
   "metadata": {
    "collapsed": false
   }
  },
  {
   "cell_type": "code",
   "execution_count": null,
   "outputs": [],
   "source": [
    "fig, axs = plt.subplots(4, 4, figsize=(16, 16))\n",
    "\n",
    "for i, iur in enumerate(now_grouped):\n",
    "    if i >= 16:\n",
    "        break\n",
    "    plt.subplot(4, 4, i + 1)\n",
    "    axs[i // 4, i % 4].imshow(mario_img, extent=[115, 117, 39, 41])\n",
    "    plt.plot(get_plot(iur, 2), get_plot(iur, 3), color='blue', alpha=0.1)\n",
    "    axs[i // 4, i % 4].set_xlim([115, 117])\n",
    "    axs[i // 4, i % 4].set_ylim([39, 41])"
   ],
   "metadata": {
    "collapsed": false
   }
  },
  {
   "cell_type": "code",
   "execution_count": null,
   "outputs": [],
   "source": [
    "import datetime\n",
    "\n",
    "\n",
    "def unix_to_time(now):\n",
    "    timestamp = datetime.datetime.fromtimestamp(now)\n",
    "    return timestamp.strftime(\"%Y-%m-%d %H:%M:%S\")"
   ],
   "metadata": {
    "collapsed": false
   }
  },
  {
   "cell_type": "code",
   "execution_count": null,
   "id": "12cc2238-371e-4682-b23d-632d087c6d2c",
   "metadata": {},
   "outputs": [],
   "source": [
    "temp = trajectories[15]\n",
    "for trajectory in trajectories:\n",
    "    print(\"%.3f\" % trajectory[2], \"%.3f\" % trajectory[3], unix_to_time(trajectory[4]), unix_to_time(trajectory[5]))"
   ]
  }
 ],
 "metadata": {
  "kernelspec": {
   "display_name": "Python 3 (ipykernel)",
   "language": "python",
   "name": "python3"
  },
  "language_info": {
   "codemirror_mode": {
    "name": "ipython",
    "version": 3
   },
   "file_extension": ".py",
   "mimetype": "text/x-python",
   "name": "python",
   "nbconvert_exporter": "python",
   "pygments_lexer": "ipython3",
   "version": "3.10.11"
  }
 },
 "nbformat": 4,
 "nbformat_minor": 5
}
